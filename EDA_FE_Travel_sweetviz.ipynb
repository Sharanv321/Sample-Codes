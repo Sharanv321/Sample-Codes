{
 "cells": [
  {
   "cell_type": "markdown",
   "id": "6f4865d5",
   "metadata": {},
   "source": [
    "# sweetviz"
   ]
  },
  {
   "cell_type": "code",
   "execution_count": 3,
   "id": "466385b4",
   "metadata": {},
   "outputs": [],
   "source": [
    "import pandas as pd"
   ]
  },
  {
   "cell_type": "code",
   "execution_count": 4,
   "id": "3bd3bd89",
   "metadata": {},
   "outputs": [],
   "source": [
    "import sweetviz as sv"
   ]
  },
  {
   "cell_type": "code",
   "execution_count": 5,
   "id": "c1c0ccd5",
   "metadata": {},
   "outputs": [],
   "source": [
    "df = pd.read_csv(\"C:\\\\Users\\\\Admin\\\\PycharmProjects\\\\EDA&FeatureEngg\\\\Dataset\\\\data1\\\\Travel.csv\")"
   ]
  },
  {
   "cell_type": "code",
   "execution_count": null,
   "id": "76fb4722",
   "metadata": {},
   "outputs": [],
   "source": [
    "report = sv.analyze(df)\n",
    "report.show_html()"
   ]
  },
  {
   "cell_type": "code",
   "execution_count": null,
   "id": "4ab8cd0f",
   "metadata": {},
   "outputs": [],
   "source": []
  }
 ],
 "metadata": {
  "kernelspec": {
   "display_name": "Python 3 (ipykernel)",
   "language": "python",
   "name": "python3"
  },
  "language_info": {
   "codemirror_mode": {
    "name": "ipython",
    "version": 3
   },
   "file_extension": ".py",
   "mimetype": "text/x-python",
   "name": "python",
   "nbconvert_exporter": "python",
   "pygments_lexer": "ipython3",
   "version": "3.9.12"
  }
 },
 "nbformat": 4,
 "nbformat_minor": 5
}
